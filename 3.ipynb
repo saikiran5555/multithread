{
 "cells": [
  {
   "cell_type": "markdown",
   "id": "6a8304b9",
   "metadata": {},
   "source": [
    "run() method: The run() method is the entry point for the thread's activity. It is called when you start a thread by invoking its start() method. By default, the run() method of the Thread class does nothing. To execute custom logic in a thread, you need to subclass the Thread class and override the run() method with your desired functionality. The run() method represents the code that will be executed in the thread.\n",
    "\n",
    "Example:"
   ]
  },
  {
   "cell_type": "code",
   "execution_count": 1,
   "id": "618c91f5",
   "metadata": {},
   "outputs": [
    {
     "name": "stdout",
     "output_type": "stream",
     "text": [
      "Thread is running\n"
     ]
    }
   ],
   "source": [
    "import threading\n",
    "\n",
    "class MyThread(threading.Thread):\n",
    "    def run(self):\n",
    "        print(\"Thread is running\")\n",
    "\n",
    "thread = MyThread()\n",
    "thread.start()\n"
   ]
  },
  {
   "cell_type": "markdown",
   "id": "80b9fd22",
   "metadata": {},
   "source": [
    "start() method: The start() method is used to start the execution of a thread. It creates a new operating system thread and invokes the run() method in that thread. The start() method returns immediately, and the new thread runs concurrently with other threads. You should call the start() method only once for a thread. If you attempt to start a thread that has already been started, it will raise an RuntimeError.\n",
    "\n",
    "Example:"
   ]
  },
  {
   "cell_type": "code",
   "execution_count": 2,
   "id": "bc28a164",
   "metadata": {},
   "outputs": [
    {
     "name": "stdout",
     "output_type": "stream",
     "text": [
      "Thread is running\n"
     ]
    }
   ],
   "source": [
    "import threading\n",
    "\n",
    "def worker():\n",
    "    print(\"Thread is running\")\n",
    "\n",
    "thread = threading.Thread(target=worker)\n",
    "thread.start()\n"
   ]
  },
  {
   "cell_type": "markdown",
   "id": "89b83dac",
   "metadata": {},
   "source": [
    "join(timeout) method: The join() method is used to wait for a thread to complete its execution. It blocks the calling thread until the target thread terminates or until the optional timeout period (in seconds) expires. If timeout is not specified or set to None, the calling thread will block indefinitely until the target thread completes. If the timeout period is specified and the target thread does not complete within that time, the calling thread continues execution regardless.\n",
    "\n",
    "Example:"
   ]
  },
  {
   "cell_type": "code",
   "execution_count": 3,
   "id": "b5670f33",
   "metadata": {},
   "outputs": [
    {
     "name": "stdout",
     "output_type": "stream",
     "text": [
      "Thread is running\n",
      "Thread has completed\n"
     ]
    }
   ],
   "source": [
    "import threading\n",
    "\n",
    "def worker():\n",
    "    print(\"Thread is running\")\n",
    "\n",
    "thread = threading.Thread(target=worker)\n",
    "thread.start()\n",
    "thread.join()\n",
    "\n",
    "print(\"Thread has completed\")\n"
   ]
  },
  {
   "cell_type": "markdown",
   "id": "9394f9ca",
   "metadata": {},
   "source": [
    "is_alive() method: The is_alive() method is used to check if a thread is still alive or running. It returns True if the thread is currently executing or has not yet been started, and False if the thread has completed its execution or has been stopped.\n",
    "\n",
    "Example:"
   ]
  },
  {
   "cell_type": "code",
   "execution_count": 4,
   "id": "21499b9d",
   "metadata": {},
   "outputs": [
    {
     "name": "stdout",
     "output_type": "stream",
     "text": [
      "Thread is alive: True\n"
     ]
    }
   ],
   "source": [
    "import threading\n",
    "import time\n",
    "\n",
    "def worker():\n",
    "    time.sleep(2)\n",
    "\n",
    "thread = threading.Thread(target=worker)\n",
    "thread.start()\n",
    "\n",
    "print(f\"Thread is alive: {thread.is_alive()}\")\n",
    "time.sleep(3)\n"
   ]
  },
  {
   "cell_type": "code",
   "execution_count": null,
   "id": "29095750",
   "metadata": {},
   "outputs": [],
   "source": []
  }
 ],
 "metadata": {
  "kernelspec": {
   "display_name": "Python 3 (ipykernel)",
   "language": "python",
   "name": "python3"
  },
  "language_info": {
   "codemirror_mode": {
    "name": "ipython",
    "version": 3
   },
   "file_extension": ".py",
   "mimetype": "text/x-python",
   "name": "python",
   "nbconvert_exporter": "python",
   "pygments_lexer": "ipython3",
   "version": "3.10.9"
  }
 },
 "nbformat": 4,
 "nbformat_minor": 5
}
