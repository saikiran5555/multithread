{
 "cells": [
  {
   "cell_type": "markdown",
   "id": "ad8bdedd",
   "metadata": {},
   "source": [
    "The threading module in Python is used for working with threads and provides a high-level interface for creating, managing, and synchronizing threads. It allows you to leverage the power of multithreading in your programs. Here's the use of the following functions from the threading module:\n",
    "\n",
    "threading.active_count(): This function returns the number of currently active Thread objects in the program. It includes the main thread as well as any other threads that have been started but have not yet terminated. This function is useful for monitoring the number of active threads and can be used to implement logic based on the current thread count.\n",
    "\n"
   ]
  },
  {
   "cell_type": "code",
   "execution_count": 1,
   "id": "2e8dcf27",
   "metadata": {},
   "outputs": [
    {
     "name": "stdout",
     "output_type": "stream",
     "text": [
      "Active threads: 6\n",
      "Thread started\n",
      "Active threads: 6\n"
     ]
    }
   ],
   "source": [
    "import threading\n",
    "\n",
    "def worker():\n",
    "    print(\"Thread started\")\n",
    "\n",
    "print(f\"Active threads: {threading.active_count()}\")\n",
    "\n",
    "thread = threading.Thread(target=worker)\n",
    "thread.start()\n",
    "\n",
    "print(f\"Active threads: {threading.active_count()}\")\n"
   ]
  },
  {
   "cell_type": "markdown",
   "id": "cd9ce542",
   "metadata": {},
   "source": [
    "threading.current_thread(): This function returns the current Thread object corresponding to the calling thread. It can be used to access properties and methods of the current thread, such as its name, identification number (ident), or to synchronize and communicate with other threads."
   ]
  },
  {
   "cell_type": "code",
   "execution_count": 2,
   "id": "26de94cc",
   "metadata": {},
   "outputs": [
    {
     "name": "stdout",
     "output_type": "stream",
     "text": [
      "Current thread: Thread-6 (worker)\n"
     ]
    }
   ],
   "source": [
    "import threading\n",
    "\n",
    "def worker():\n",
    "    print(f\"Current thread: {threading.current_thread().name}\")\n",
    "\n",
    "thread = threading.Thread(target=worker)\n",
    "thread.start()\n",
    "thread.join()\n"
   ]
  },
  {
   "cell_type": "markdown",
   "id": "fad22699",
   "metadata": {},
   "source": [
    "threading.enumerate(): This function returns a list of all currently active Thread objects. It includes both the main thread and any other threads that have been started but have not yet terminated. The returned list allows you to iterate over all active threads and perform actions or retrieve information about them."
   ]
  },
  {
   "cell_type": "code",
   "execution_count": 3,
   "id": "a00b2b72",
   "metadata": {},
   "outputs": [
    {
     "name": "stdout",
     "output_type": "stream",
     "text": [
      "Worker thread: Thread-7 (worker)\n",
      "Worker thread: Thread-8 (worker)\n",
      "Worker thread: Thread-9 (worker)\n",
      "Worker thread: Thread-10 (worker)\n",
      "Worker thread: Thread-11 (worker)\n",
      "Thread name: MainThread\n",
      "Thread name: IOPub\n",
      "Thread name: Heartbeat\n",
      "Thread name: Control\n",
      "Thread name: IPythonHistorySavingThread\n",
      "Thread name: Thread-4\n"
     ]
    }
   ],
   "source": [
    "import threading\n",
    "\n",
    "def worker():\n",
    "    print(f\"Worker thread: {threading.current_thread().name}\")\n",
    "\n",
    "threads = []\n",
    "\n",
    "for i in range(5):\n",
    "    thread = threading.Thread(target=worker)\n",
    "    thread.start()\n",
    "    threads.append(thread)\n",
    "\n",
    "for thread in threading.enumerate():\n",
    "    print(f\"Thread name: {thread.name}\")\n",
    "\n",
    "for thread in threads:\n",
    "    thread.join()\n"
   ]
  },
  {
   "cell_type": "code",
   "execution_count": null,
   "id": "ee6113c3",
   "metadata": {},
   "outputs": [],
   "source": []
  }
 ],
 "metadata": {
  "kernelspec": {
   "display_name": "Python 3 (ipykernel)",
   "language": "python",
   "name": "python3"
  },
  "language_info": {
   "codemirror_mode": {
    "name": "ipython",
    "version": 3
   },
   "file_extension": ".py",
   "mimetype": "text/x-python",
   "name": "python",
   "nbconvert_exporter": "python",
   "pygments_lexer": "ipython3",
   "version": "3.10.9"
  }
 },
 "nbformat": 4,
 "nbformat_minor": 5
}
