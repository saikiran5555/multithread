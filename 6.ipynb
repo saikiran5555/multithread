{
 "cells": [
  {
   "cell_type": "markdown",
   "id": "910c72da",
   "metadata": {},
   "source": [
    "Deadlock:\n",
    "A deadlock is a situation where two or more threads are blocked indefinitely, each waiting for the other to release a resource, resulting in a program freeze or unresponsiveness. Deadlocks occur when the following four conditions are met simultaneously:\n",
    "\n",
    "Mutual Exclusion: At least one resource is held in a non-sharable mode, meaning that only one thread can use the resource at a time.\n",
    "Hold and Wait: A thread holds one or more resources while waiting to acquire additional resources.\n",
    "No Preemption: Resources cannot be forcibly taken away from a thread; only the thread holding the resource can release it.\n",
    "Circular Wait: A circular chain of two or more threads exists, where each thread is waiting for a resource held by the next thread in the chain."
   ]
  },
  {
   "cell_type": "markdown",
   "id": "ce4a6d8e",
   "metadata": {},
   "source": [
    "Race Condition:\n",
    "A race condition occurs when multiple threads access shared data or resources concurrently, and the final outcome depends on the relative timing and interleaving of their execution. It leads to unpredictable and undesirable results, as the outcome of the program depends on the order in which the threads are scheduled to run.\n",
    "\n",
    "Race conditions can occur when threads perform read-modify-write operations on shared data without proper synchronization. If multiple threads access and modify shared data simultaneously, the result can be inconsistent or incorrect. Race conditions can manifest as data corruption, incorrect calculations, or unexpected program behavior.\n",
    "\n",
    "To mitigate race conditions, proper synchronization mechanisms should be used, such as locks, semaphores, or atomic operations. These mechanisms ensure that only one thread can access and modify shared resources at a time, preventing concurrent interference and maintaining the integrity of the data."
   ]
  }
 ],
 "metadata": {
  "kernelspec": {
   "display_name": "Python 3 (ipykernel)",
   "language": "python",
   "name": "python3"
  },
  "language_info": {
   "codemirror_mode": {
    "name": "ipython",
    "version": 3
   },
   "file_extension": ".py",
   "mimetype": "text/x-python",
   "name": "python",
   "nbconvert_exporter": "python",
   "pygments_lexer": "ipython3",
   "version": "3.10.9"
  }
 },
 "nbformat": 4,
 "nbformat_minor": 5
}
